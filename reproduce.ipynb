{
 "cells": [
  {
   "cell_type": "code",
   "execution_count": 1,
   "id": "c367e80e",
   "metadata": {},
   "outputs": [],
   "source": [
    "import pandas as pd\n",
    "import geopandas as gpd\n",
    "import maup\n",
    "import itertools\n",
    "import seaborn as sns"
   ]
  },
  {
   "cell_type": "code",
   "execution_count": 2,
   "id": "b4a7fa47",
   "metadata": {},
   "outputs": [],
   "source": [
    "wi_wards = gpd.read_file(\"wards/\")\n",
    "\n",
    "primaries = pd.read_csv(\"2018_primaries_parsed.csv\")\n",
    "\n",
    "primaries[\"ward_jurisdiction_norm\"] = primaries[\"ward_jurisdiction\"].replace('SAUK COUNTY, TOWN OF LA VALLE', 'SAUK COUNTY, TOWN OF LAVALLE')\n",
    "primaries[\"ward_jurisdiction_norm\"] = primaries[\"ward_jurisdiction_norm\"].replace('MARATHON COUNTY, VILLAGE OF BROKAW', \"MARATHON COUNTY, VILLAGE OF MAINE\")\n",
    "primaries[\"ward_jurisdiction_norm\"] = primaries[\"ward_jurisdiction_norm\"].replace('SAUK COUNTY, TOWN OF LA VALLE', 'SAUK COUNTY, TOWN OF LAVALLE')\n",
    "primaries[\"ward_jurisdiction_norm\"] = primaries[\"ward_jurisdiction_norm\"].replace('SAUK COUNTY, TOWN OF LA VALLE', 'SAUK COUNTY, TOWN OF LAVALLE')\n",
    "wi_wards[\"WARD_MAPPING_LOC\"] = wi_wards.index\n",
    "# primaries[\"PRIMARIES_MAPPING_LOC\"] = primaries.index\n",
    "\n",
    "wi_wards[\"ward_jurisdiction\"] = wi_wards[\"new_wards_\"].apply(lambda x: x.replace(\" ,\", \",\"))"
   ]
  },
  {
   "cell_type": "code",
   "execution_count": 3,
   "id": "350942ad",
   "metadata": {},
   "outputs": [],
   "source": [
    "wi_wards[\"WARD_NUM\"] = wi_wards[\"LABEL\"].apply(lambda x: x.split()[-1].lstrip(\"0\"))"
   ]
  },
  {
   "cell_type": "markdown",
   "id": "8a1363f3",
   "metadata": {},
   "source": [
    "## Creating mapping"
   ]
  },
  {
   "cell_type": "code",
   "execution_count": 4,
   "id": "52b08b26",
   "metadata": {},
   "outputs": [],
   "source": [
    "primaries[\"PRIMARIES_MAPPING_LOC\"] = primaries.index\n",
    "wi_wards[\"join_key\"] = (wi_wards[\"ward_jurisdiction\"] + wi_wards[\"WARD_NUM\"]).astype(str)\n",
    "assert wi_wards[\"join_key\"].is_unique"
   ]
  },
  {
   "cell_type": "code",
   "execution_count": 5,
   "id": "33ca1680",
   "metadata": {},
   "outputs": [],
   "source": [
    "mapping_wards_primaries = {}\n",
    "for c, row in primaries.iterrows():\n",
    "    for ward in eval(row[\"ward_list\"]):\n",
    "        mapping_wards_primaries[row[\"ward_jurisdiction_norm\"] + ward] = row[\"PRIMARIES_MAPPING_LOC\"]\n",
    "    "
   ]
  },
  {
   "cell_type": "code",
   "execution_count": 6,
   "id": "64cf66db",
   "metadata": {},
   "outputs": [
    {
     "name": "stdout",
     "output_type": "stream",
     "text": [
      "125\n",
      "7781\n"
     ]
    }
   ],
   "source": [
    "wi_wards[\"PRIMARIES_MAPPING_LOC\"] = wi_wards[\"join_key\"].apply(lambda x: mapping_wards_primaries.get(x))\n",
    "print(wi_wards[\"PRIMARIES_MAPPING_LOC\"].isna().sum())  # number of unassigned wards\n",
    "print(wi_wards[wi_wards[\"PRIMARIES_MAPPING_LOC\"].isna()][\"PERSONS18\"].sum())  # tot pop of unassigned wards"
   ]
  },
  {
   "cell_type": "code",
   "execution_count": 7,
   "id": "ddaf1988",
   "metadata": {},
   "outputs": [],
   "source": [
    "primaries[\"PERSONS18\"] = wi_wards.groupby(\"PRIMARIES_MAPPING_LOC\")[\"PERSONS18\"].sum()"
   ]
  },
  {
   "cell_type": "code",
   "execution_count": 8,
   "id": "41452b0c",
   "metadata": {},
   "outputs": [
    {
     "data": {
      "text/plain": [
       "7781.0"
      ]
     },
     "execution_count": 8,
     "metadata": {},
     "output_type": "execute_result"
    }
   ],
   "source": [
    "wi_wards[\"PERSONS18\"].sum() - primaries[\"PERSONS18\"].sum()  # expected and reasonable"
   ]
  },
  {
   "cell_type": "code",
   "execution_count": 9,
   "id": "c46bf255",
   "metadata": {},
   "outputs": [
    {
     "data": {
      "text/plain": [
       "{'DODGE COUNTY, TOWN OF WILLIAMSTOWN1',\n",
       " 'DODGE COUNTY, TOWN OF WILLIAMSTOWN2',\n",
       " 'DODGE COUNTY, TOWN OF WILLIAMSTOWN3',\n",
       " 'MONROE COUNTY, CITY OF TOMAH5',\n",
       " 'MONROE COUNTY, TOWN OF LA GRANGE1A-3A',\n",
       " 'MONROE COUNTY, TOWN OF LA GRANGE1B-3B',\n",
       " 'OZAUKEE COUNTY, CITY OF MEQUON6-7A',\n",
       " 'TREMPEALEAU COUNTY, TOWN OF LINCOLN2',\n",
       " 'WALWORTH COUNTY, CITY OF DELAVAN16',\n",
       " 'WALWORTH COUNTY, CITY OF WHITEWATER13',\n",
       " 'WINNEBAGO COUNTY, CITY OF MENASHA1A-2',\n",
       " 'WINNEBAGO COUNTY, TOWN OF VINLAND1A-2',\n",
       " 'WINNEBAGO COUNTY, TOWN OF WOLF RIVER1-2A',\n",
       " 'WOOD COUNTY, CITY OF MARSHFIELD25',\n",
       " 'WOOD COUNTY, CITY OF MARSHFIELD26',\n",
       " 'WOOD COUNTY, CITY OF MARSHFIELD27',\n",
       " 'WOOD COUNTY, CITY OF WISCONSIN RAPIDS26',\n",
       " 'WOOD COUNTY, CITY OF WISCONSIN RAPIDS27',\n",
       " 'WOOD COUNTY, CITY OF WISCONSIN RAPIDS28',\n",
       " 'WOOD COUNTY, CITY OF WISCONSIN RAPIDS29'}"
      ]
     },
     "execution_count": 9,
     "metadata": {},
     "output_type": "execute_result"
    }
   ],
   "source": [
    "set(mapping_wards_primaries.keys()) - set(wi_wards[\"join_key\"])"
   ]
  },
  {
   "cell_type": "code",
   "execution_count": 10,
   "id": "e0c08539",
   "metadata": {},
   "outputs": [
    {
     "data": {
      "text/plain": [
       "{'CALUMET COUNTY, CITY OF BRILLION5',\n",
       " 'CALUMET COUNTY, CITY OF KIEL10',\n",
       " 'CHIPPEWA COUNTY, CITY OF EAU CLAIRE78',\n",
       " 'COLUMBIA COUNTY, CITY OF WISCONSIN DELLS12',\n",
       " 'DANE COUNTY, CITY OF MADISON145',\n",
       " 'DANE COUNTY, CITY OF MADISON146',\n",
       " 'DANE COUNTY, CITY OF MADISON147',\n",
       " 'DANE COUNTY, CITY OF MADISON148',\n",
       " 'DANE COUNTY, CITY OF MADISON149',\n",
       " 'DANE COUNTY, CITY OF MADISON150',\n",
       " 'DANE COUNTY, CITY OF MADISON151',\n",
       " 'DANE COUNTY, CITY OF MADISON152',\n",
       " 'DANE COUNTY, CITY OF MADISON154',\n",
       " 'DANE COUNTY, CITY OF MIDDLETON21',\n",
       " 'DANE COUNTY, CITY OF MIDDLETON22',\n",
       " 'DANE COUNTY, CITY OF STOUGHTON15',\n",
       " 'DANE COUNTY, CITY OF STOUGHTON16',\n",
       " 'DANE COUNTY, CITY OF SUN PRAIRIE26',\n",
       " 'DANE COUNTY, CITY OF SUN PRAIRIE27',\n",
       " 'DANE COUNTY, CITY OF SUN PRAIRIE28',\n",
       " 'DANE COUNTY, TOWN OF CROSS PLAINS4',\n",
       " 'DANE COUNTY, VILLAGE OF COTTAGE GROVE13',\n",
       " 'DANE COUNTY, VILLAGE OF DEFOREST22',\n",
       " 'DANE COUNTY, VILLAGE OF MCFARLAND13',\n",
       " 'DANE COUNTY, VILLAGE OF MCFARLAND14',\n",
       " 'DODGE COUNTY, CITY OF BEAVER DAM15',\n",
       " 'DODGE COUNTY, CITY OF BEAVER DAM16',\n",
       " 'DODGE COUNTY, VILLAGE OF KEKOSKEE2',\n",
       " 'DODGE COUNTY, VILLAGE OF KEKOSKEE3',\n",
       " 'EAU CLAIRE COUNTY, CITY OF EAU CLAIRE73',\n",
       " 'EAU CLAIRE COUNTY, CITY OF EAU CLAIRE74',\n",
       " 'EAU CLAIRE COUNTY, CITY OF EAU CLAIRE75',\n",
       " 'EAU CLAIRE COUNTY, CITY OF EAU CLAIRE76',\n",
       " 'EAU CLAIRE COUNTY, CITY OF EAU CLAIRE77',\n",
       " 'EAU CLAIRE COUNTY, CITY OF EAU CLAIRE79',\n",
       " 'FOND DU LAC COUNTY, CITY OF FOND DU LAC31',\n",
       " 'FOND DU LAC COUNTY, CITY OF RIPON7A',\n",
       " 'FOND DU LAC COUNTY, CITY OF WAUPUN9A',\n",
       " 'KENOSHA COUNTY, CITY OF KENOSHA101',\n",
       " 'KENOSHA COUNTY, CITY OF KENOSHA102',\n",
       " 'KENOSHA COUNTY, CITY OF KENOSHA103',\n",
       " 'KENOSHA COUNTY, CITY OF KENOSHA104',\n",
       " 'KENOSHA COUNTY, CITY OF KENOSHA105',\n",
       " 'KENOSHA COUNTY, CITY OF KENOSHA106',\n",
       " 'KENOSHA COUNTY, CITY OF KENOSHA107',\n",
       " 'KENOSHA COUNTY, CITY OF KENOSHA108',\n",
       " 'KENOSHA COUNTY, CITY OF KENOSHA109',\n",
       " 'KENOSHA COUNTY, CITY OF KENOSHA110',\n",
       " 'KENOSHA COUNTY, CITY OF KENOSHA111',\n",
       " 'KENOSHA COUNTY, CITY OF KENOSHA112',\n",
       " 'KENOSHA COUNTY, CITY OF KENOSHA113',\n",
       " 'KENOSHA COUNTY, CITY OF KENOSHA114',\n",
       " 'KENOSHA COUNTY, CITY OF KENOSHA115',\n",
       " 'KENOSHA COUNTY, VILLAGE OF TWIN LAKES9',\n",
       " 'LA CROSSE COUNTY, VILLAGE OF HOLMEN13',\n",
       " 'LA CROSSE COUNTY, VILLAGE OF HOLMEN14',\n",
       " 'MANITOWOC COUNTY, CITY OF KIEL11',\n",
       " 'MANITOWOC COUNTY, CITY OF MANITOWOC30',\n",
       " 'MANITOWOC COUNTY, CITY OF MANITOWOC31',\n",
       " 'MARATHON COUNTY, CITY OF WAUSAU38',\n",
       " 'MARATHON COUNTY, CITY OF WAUSAU50',\n",
       " 'MARATHON COUNTY, CITY OF WAUSAU51',\n",
       " 'MARATHON COUNTY, VILLAGE OF ROTHSCHILD7',\n",
       " 'MONROE COUNTY, CITY OF SPARTA22',\n",
       " 'MONROE COUNTY, CITY OF SPARTA23',\n",
       " 'MONROE COUNTY, CITY OF TOMAH24',\n",
       " 'MONROE COUNTY, CITY OF TOMAH5A',\n",
       " 'MONROE COUNTY, TOWN OF LA GRANGE1A',\n",
       " 'MONROE COUNTY, TOWN OF LA GRANGE1B',\n",
       " 'MONROE COUNTY, TOWN OF LA GRANGE2A',\n",
       " 'MONROE COUNTY, TOWN OF LA GRANGE2B',\n",
       " 'MONROE COUNTY, TOWN OF LA GRANGE3A',\n",
       " 'MONROE COUNTY, TOWN OF LA GRANGE3B',\n",
       " 'OUTAGAMIE COUNTY, CITY OF APPLETON61',\n",
       " 'OUTAGAMIE COUNTY, CITY OF KAUKAUNA15',\n",
       " 'OUTAGAMIE COUNTY, VILLAGE OF LITTLE CHUTE16',\n",
       " 'OZAUKEE COUNTY, CITY OF MEQUON6',\n",
       " 'OZAUKEE COUNTY, CITY OF MEQUON7A',\n",
       " 'PORTAGE COUNTY, CITY OF STEVENS POINT47',\n",
       " 'RICHLAND COUNTY, CITY OF RICHLAND CENTER13',\n",
       " 'RICHLAND COUNTY, TOWN OF RICHLAND14',\n",
       " 'ROCK COUNTY, CITY OF EVANSVILLE11',\n",
       " 'ROCK COUNTY, CITY OF JANESVILLE35',\n",
       " 'ROCK COUNTY, CITY OF JANESVILLE36',\n",
       " 'SAUK COUNTY, CITY OF REEDSBURG15',\n",
       " 'SAUK COUNTY, VILLAGE OF LAKE DELTON10',\n",
       " 'SHEBOYGAN COUNTY, CITY OF SHEBOYGAN FALLS10',\n",
       " 'SHEBOYGAN COUNTY, CITY OF SHEBOYGAN FALLS11',\n",
       " 'TAYLOR COUNTY, CITY OF MEDFORD9',\n",
       " 'WALWORTH COUNTY, TOWN OF WHITEWATER13',\n",
       " 'WALWORTH COUNTY, VILLAGE OF GENOA CITY9999',\n",
       " 'WASHINGTON COUNTY, CITY OF HARTFORD33',\n",
       " 'WASHINGTON COUNTY, CITY OF HARTFORD34',\n",
       " 'WASHINGTON COUNTY, CITY OF HARTFORD35',\n",
       " 'WASHINGTON COUNTY, CITY OF HARTFORD36',\n",
       " 'WASHINGTON COUNTY, CITY OF WEST BEND34',\n",
       " 'WASHINGTON COUNTY, CITY OF WEST BEND35',\n",
       " 'WASHINGTON COUNTY, CITY OF WEST BEND36',\n",
       " 'WASHINGTON COUNTY, VILLAGE OF JACKSON13',\n",
       " 'WASHINGTON COUNTY, VILLAGE OF RICHFIELD10',\n",
       " 'WAUKESHA COUNTY, CITY OF OCONOMOWOC16',\n",
       " 'WAUKESHA COUNTY, CITY OF WAUKESHA50',\n",
       " 'WAUKESHA COUNTY, CITY OF WAUKESHA51',\n",
       " 'WAUKESHA COUNTY, CITY OF WAUKESHA52',\n",
       " 'WAUKESHA COUNTY, TOWN OF GENESEE11',\n",
       " 'WAUKESHA COUNTY, VILLAGE OF CHENEQUA2',\n",
       " 'WAUKESHA COUNTY, VILLAGE OF CHENEQUA3',\n",
       " 'WAUKESHA COUNTY, VILLAGE OF HARTLAND15',\n",
       " 'WAUKESHA COUNTY, VILLAGE OF MERTON6',\n",
       " 'WAUKESHA COUNTY, VILLAGE OF NORTH PRAIRIE4',\n",
       " 'WAUKESHA COUNTY, VILLAGE OF SUSSEX11',\n",
       " 'WAUKESHA COUNTY, VILLAGE OF SUSSEX12',\n",
       " 'WAUPACA COUNTY, CITY OF WEYAUWEGA4',\n",
       " 'WAUPACA COUNTY, TOWN OF ROYALTON3',\n",
       " 'WINNEBAGO COUNTY, CITY OF MENASHA1A',\n",
       " 'WINNEBAGO COUNTY, CITY OF MENASHA2',\n",
       " 'WINNEBAGO COUNTY, CITY OF NEENAH27',\n",
       " 'WINNEBAGO COUNTY, CITY OF NEENAH28',\n",
       " 'WINNEBAGO COUNTY, CITY OF OMRO9',\n",
       " 'WINNEBAGO COUNTY, CITY OF OSHKOSH43',\n",
       " 'WINNEBAGO COUNTY, TOWN OF VINLAND1A',\n",
       " 'WINNEBAGO COUNTY, TOWN OF VINLAND2',\n",
       " 'WINNEBAGO COUNTY, TOWN OF WOLF RIVER1',\n",
       " 'WINNEBAGO COUNTY, TOWN OF WOLF RIVER2A',\n",
       " 'WINNEBAGO COUNTY, VILLAGE OF FOX CROSSING15'}"
      ]
     },
     "execution_count": 10,
     "metadata": {},
     "output_type": "execute_result"
    }
   ],
   "source": [
    "set(wi_wards[\"join_key\"]) - set(mapping_wards_primaries.keys())"
   ]
  },
  {
   "cell_type": "markdown",
   "id": "d74a83bc",
   "metadata": {},
   "source": [
    "### Epsilon trick"
   ]
  },
  {
   "cell_type": "code",
   "execution_count": 11,
   "id": "022984fb",
   "metadata": {},
   "outputs": [],
   "source": [
    "e = 1e-10"
   ]
  },
  {
   "cell_type": "code",
   "execution_count": 12,
   "id": "08f7373f",
   "metadata": {},
   "outputs": [
    {
     "data": {
      "text/plain": [
       "4347494.000000039"
      ]
     },
     "execution_count": 12,
     "metadata": {},
     "output_type": "execute_result"
    }
   ],
   "source": [
    "wi_wards[\"PERSONS18ADJ\"] = wi_wards[\"PERSONS18\"].replace(0, e)\n",
    "wi_wards[\"PERSONS18ADJ\"].sum()"
   ]
  },
  {
   "cell_type": "code",
   "execution_count": 13,
   "id": "86151d2d",
   "metadata": {},
   "outputs": [],
   "source": [
    "primaries[\"PERSONS18ADJ\"] = wi_wards.groupby(\"PRIMARIES_MAPPING_LOC\")[\"PERSONS18ADJ\"].sum()"
   ]
  },
  {
   "cell_type": "code",
   "execution_count": 14,
   "id": "04982aff",
   "metadata": {},
   "outputs": [
    {
     "data": {
      "text/plain": [
       "7781.000000007451"
      ]
     },
     "execution_count": 14,
     "metadata": {},
     "output_type": "execute_result"
    }
   ],
   "source": [
    "wi_wards[\"PERSONS18ADJ\"].sum() - primaries[\"PERSONS18ADJ\"].sum()  # expected and reasonable"
   ]
  },
  {
   "cell_type": "markdown",
   "id": "e11000ae",
   "metadata": {},
   "source": [
    "### Prorating"
   ]
  },
  {
   "cell_type": "code",
   "execution_count": 15,
   "id": "fd7f3b29",
   "metadata": {},
   "outputs": [],
   "source": [
    "wi_wards_stripped = wi_wards[~wi_wards[\"PRIMARIES_MAPPING_LOC\"].isna()]"
   ]
  },
  {
   "cell_type": "code",
   "execution_count": 16,
   "id": "dc1f6716",
   "metadata": {},
   "outputs": [
    {
     "data": {
      "text/plain": [
       "['PLGTOTAL',\n",
       " 'KURT J. KOBER',\n",
       " 'MANDELA  BARNES',\n",
       " 'CORBAN GEHLER (WRITE-IN)',\n",
       " 'WILLIAM HENRY DAVIS III (WRITE-IN)',\n",
       " 'PGOVTOTAL',\n",
       " 'ANDY GRONIK',\n",
       " 'MATT FLYNN',\n",
       " 'TONY EVERS',\n",
       " 'JOSH PADE',\n",
       " 'MIKE MCCABE',\n",
       " 'MAHLON MITCHELL',\n",
       " 'KELDA HELEN ROYS',\n",
       " 'PAUL R. SOGLIN',\n",
       " 'KATHLEEN VINEHOUT',\n",
       " 'DANA WACHS',\n",
       " 'PAUL BOUCHER (WRITE-IN)',\n",
       " 'PSOSTOTAL',\n",
       " 'DOUG  LA FOLLETTE',\n",
       " 'ARVINA MARTIN',\n",
       " 'PTRESTOTAL',\n",
       " 'DAWN MARIE  SASS',\n",
       " 'CYNTHIA  KAUMP',\n",
       " 'SARAH  GODLEWSKI']"
      ]
     },
     "execution_count": 16,
     "metadata": {},
     "output_type": "execute_result"
    }
   ],
   "source": [
    "election_columns = [x for x in primaries.columns if (\" \" in x and x != \"WARD GROUP\") or \"TOTAL\" in x]\n",
    "election_columns"
   ]
  },
  {
   "cell_type": "code",
   "execution_count": 17,
   "id": "07cde097",
   "metadata": {},
   "outputs": [],
   "source": [
    "weights = (wi_wards_stripped[\"PERSONS18ADJ\"] / wi_wards_stripped[\"PRIMARIES_MAPPING_LOC\"].map(primaries[\"PERSONS18ADJ\"]))"
   ]
  },
  {
   "cell_type": "code",
   "execution_count": 18,
   "id": "58fa4f2f",
   "metadata": {
    "scrolled": true
   },
   "outputs": [
    {
     "data": {
      "text/plain": [
       "3658"
      ]
     },
     "execution_count": 18,
     "metadata": {},
     "output_type": "execute_result"
    }
   ],
   "source": [
    "len(primaries)"
   ]
  },
  {
   "cell_type": "code",
   "execution_count": 19,
   "id": "36bb47d4",
   "metadata": {},
   "outputs": [],
   "source": [
    "assigned_primaries = set(primaries[\"PRIMARIES_MAPPING_LOC\"].astype(float)).intersection(set(wi_wards_stripped[\"PRIMARIES_MAPPING_LOC\"]))\n",
    "unassigned_primaries = set(primaries[\"PRIMARIES_MAPPING_LOC\"].astype(float)) - set(wi_wards_stripped[\"PRIMARIES_MAPPING_LOC\"])"
   ]
  },
  {
   "cell_type": "code",
   "execution_count": 20,
   "id": "76c0ab5a",
   "metadata": {},
   "outputs": [
    {
     "data": {
      "text/plain": [
       "0.0010131964687611597"
      ]
     },
     "execution_count": 20,
     "metadata": {},
     "output_type": "execute_result"
    }
   ],
   "source": [
    "primaries.iloc[[int(x) for x in unassigned_primaries]][\"PLGTOTAL\"].sum() / primaries[\"PLGTOTAL\"].sum()"
   ]
  },
  {
   "cell_type": "code",
   "execution_count": 21,
   "id": "4edd5554",
   "metadata": {},
   "outputs": [
    {
     "data": {
      "text/plain": [
       "0"
      ]
     },
     "execution_count": 21,
     "metadata": {},
     "output_type": "execute_result"
    }
   ],
   "source": [
    "weights.isna().sum()"
   ]
  },
  {
   "cell_type": "code",
   "execution_count": 22,
   "id": "3351f18a",
   "metadata": {},
   "outputs": [
    {
     "data": {
      "text/plain": [
       "0"
      ]
     },
     "execution_count": 22,
     "metadata": {},
     "output_type": "execute_result"
    }
   ],
   "source": [
    "wi_wards_stripped[\"PRIMARIES_MAPPING_LOC\"].astype(int).isna().sum()"
   ]
  },
  {
   "cell_type": "code",
   "execution_count": 23,
   "id": "56bf5d8a",
   "metadata": {},
   "outputs": [],
   "source": [
    "prorated = maup.prorate(wi_wards_stripped[\"PRIMARIES_MAPPING_LOC\"], primaries.iloc[list(assigned_primaries)][election_columns], weights)"
   ]
  },
  {
   "cell_type": "code",
   "execution_count": 24,
   "id": "cc0e5d31",
   "metadata": {},
   "outputs": [
    {
     "data": {
      "text/plain": [
       "PLGTOTAL                              488.00007\n",
       "KURT J. KOBER                         195.99986\n",
       "MANDELA  BARNES                       291.00023\n",
       "CORBAN GEHLER (WRITE-IN)                0.00000\n",
       "WILLIAM HENRY DAVIS III (WRITE-IN)      0.00000\n",
       "PGOVTOTAL                             519.99996\n",
       "ANDY GRONIK                            10.99994\n",
       "MATT FLYNN                             32.99999\n",
       "TONY EVERS                            270.99998\n",
       "JOSH PADE                               2.00020\n",
       "MIKE MCCABE                            26.99989\n",
       "MAHLON MITCHELL                        58.00018\n",
       "KELDA HELEN ROYS                       57.99992\n",
       "PAUL R. SOGLIN                         13.00008\n",
       "KATHLEEN VINEHOUT                      44.99980\n",
       "DANA WACHS                              1.99991\n",
       "PAUL BOUCHER (WRITE-IN)                 0.00000\n",
       "PSOSTOTAL                             499.99989\n",
       "DOUG  LA FOLLETTE                     364.00006\n",
       "ARVINA MARTIN                         135.99986\n",
       "PTRESTOTAL                            474.00000\n",
       "DAWN MARIE  SASS                      152.00018\n",
       "CYNTHIA  KAUMP                        135.99961\n",
       "SARAH  GODLEWSKI                      185.00011\n",
       "dtype: float64"
      ]
     },
     "execution_count": 24,
     "metadata": {},
     "output_type": "execute_result"
    }
   ],
   "source": [
    "primaries[election_columns].sum() - prorated.round(5)[election_columns].sum()"
   ]
  },
  {
   "cell_type": "code",
   "execution_count": 25,
   "id": "49ba8d30",
   "metadata": {},
   "outputs": [
    {
     "name": "stderr",
     "output_type": "stream",
     "text": [
      "/home/linuxbrew/.linuxbrew/opt/python@3.9/lib/python3.9/site-packages/geopandas/geodataframe.py:1322: SettingWithCopyWarning: \n",
      "A value is trying to be set on a copy of a slice from a DataFrame.\n",
      "Try using .loc[row_indexer,col_indexer] = value instead\n",
      "\n",
      "See the caveats in the documentation: https://pandas.pydata.org/pandas-docs/stable/user_guide/indexing.html#returning-a-view-versus-a-copy\n",
      "  super(GeoDataFrame, self).__setitem__(key, value)\n"
     ]
    }
   ],
   "source": [
    "wi_wards_stripped[election_columns] = prorated"
   ]
  },
  {
   "cell_type": "code",
   "execution_count": 26,
   "id": "1919016f",
   "metadata": {},
   "outputs": [],
   "source": [
    "cols = election_columns + [\"ID\"]"
   ]
  },
  {
   "cell_type": "code",
   "execution_count": 27,
   "id": "ed6d6b4a",
   "metadata": {},
   "outputs": [],
   "source": [
    "for col in election_columns:\n",
    "    if col in wi_wards:\n",
    "        del wi_wards[col]\n",
    "wi_wards = wi_wards.merge(wi_wards_stripped[cols], on = \"ID\", how = \"left\")"
   ]
  },
  {
   "cell_type": "code",
   "execution_count": 28,
   "id": "5b90c697",
   "metadata": {},
   "outputs": [],
   "source": [
    "wi_wards.to_csv(\"WI_18_NEW_PRIMARIES.csv\")"
   ]
  },
  {
   "cell_type": "code",
   "execution_count": 30,
   "id": "4c174ed9",
   "metadata": {},
   "outputs": [
    {
     "name": "stderr",
     "output_type": "stream",
     "text": [
      "/tmp/ipykernel_1273375/1698897101.py:1: UserWarning: Column names longer than 10 characters will be truncated when saved to ESRI Shapefile.\n",
      "  wi_wards.to_file(\"WI_18_NEW_PRIMARIES.shp\")\n"
     ]
    }
   ],
   "source": [
    "wi_wards.to_file(\"WI_18_NEW_PRIMARIES.shp\")"
   ]
  },
  {
   "cell_type": "code",
   "execution_count": 311,
   "id": "5e87fd49",
   "metadata": {},
   "outputs": [
    {
     "data": {
      "text/plain": [
       "KURT J. KOBER                         196.0\n",
       "MANDELA  BARNES                       291.0\n",
       "CORBAN GEHLER (WRITE-IN)                0.0\n",
       "WILLIAM HENRY DAVIS III (WRITE-IN)      0.0\n",
       "ANDY GRONIK                            11.0\n",
       "MATT FLYNN                             33.0\n",
       "TONY EVERS                            271.0\n",
       "JOSH PADE                               2.0\n",
       "MIKE MCCABE                            27.0\n",
       "MAHLON MITCHELL                        58.0\n",
       "KELDA HELEN ROYS                       58.0\n",
       "PAUL R. SOGLIN                         13.0\n",
       "KATHLEEN VINEHOUT                      45.0\n",
       "DANA WACHS                              2.0\n",
       "PAUL BOUCHER (WRITE-IN)                 0.0\n",
       "DOUG  LA FOLLETTE                     364.0\n",
       "ARVINA MARTIN                         136.0\n",
       "DAWN MARIE  SASS                      152.0\n",
       "CYNTHIA  KAUMP                        136.0\n",
       "SARAH  GODLEWSKI                      185.0\n",
       "dtype: float64"
      ]
     },
     "execution_count": 311,
     "metadata": {},
     "output_type": "execute_result"
    }
   ],
   "source": [
    "primaries[election_columns].sum() - wi_wards[election_columns].sum()"
   ]
  },
  {
   "cell_type": "markdown",
   "id": "a2207965",
   "metadata": {},
   "source": [
    "## Matching Checks"
   ]
  },
  {
   "cell_type": "code",
   "execution_count": 108,
   "id": "9208f2cc",
   "metadata": {
    "scrolled": true
   },
   "outputs": [
    {
     "data": {
      "text/plain": [
       "0       55001002750001\n",
       "1       55001002750002\n",
       "2       55001002750003\n",
       "3       55001002750004\n",
       "4       55001003000001\n",
       "             ...      \n",
       "7073    55101660000001\n",
       "7074    55139557500027\n",
       "7075    55139557500028\n",
       "7076    55139598750009\n",
       "7077    55139605000043\n",
       "Name: ID, Length: 7078, dtype: object"
      ]
     },
     "execution_count": 108,
     "metadata": {},
     "output_type": "execute_result"
    }
   ],
   "source": [
    "wi_wards[\"ID\"]"
   ]
  },
  {
   "cell_type": "code",
   "execution_count": 109,
   "id": "57d8758b",
   "metadata": {},
   "outputs": [
    {
     "data": {
      "text/plain": [
       "152686"
      ]
     },
     "execution_count": 109,
     "metadata": {},
     "output_type": "execute_result"
    }
   ],
   "source": [
    "wi_wards[wi_wards[\"LABEL\"].duplicated()][\"PERSONS18\"].sum()"
   ]
  },
  {
   "cell_type": "code",
   "execution_count": 132,
   "id": "27a502e2",
   "metadata": {},
   "outputs": [
    {
     "data": {
      "text/plain": [
       "<AxesSubplot:xlabel='PERSONS18', ylabel='Count'>"
      ]
     },
     "execution_count": 132,
     "metadata": {},
     "output_type": "execute_result"
    },
    {
     "data": {
      "image/png": "[encoded data removed]",
      "text/plain": [
       "<Figure size 432x288 with 1 Axes>"
      ]
     },
     "metadata": {
      "needs_background": "light"
     },
     "output_type": "display_data"
    }
   ],
   "source": [
    "sns.histplot(wi_wards[\"PERSONS18\"])"
   ]
  },
  {
   "cell_type": "code",
   "execution_count": 114,
   "id": "496c1395",
   "metadata": {},
   "outputs": [
    {
     "data": {
      "text/plain": [
       "<AxesSubplot:xlabel='PERSONS18', ylabel='Count'>"
      ]
     },
     "execution_count": 114,
     "metadata": {},
     "output_type": "execute_result"
    },
    {
     "data": {
      "image/png": "[encoded data removed]",
      "text/plain": [
       "<Figure size 432x288 with 1 Axes>"
      ]
     },
     "metadata": {
      "needs_background": "light"
     },
     "output_type": "display_data"
    }
   ],
   "source": [
    "sns.histplot(wi_wards.groupby(\"LABEL\").sum()[\"PERSONS18\"])"
   ]
  },
  {
   "cell_type": "code",
   "execution_count": 120,
   "id": "cfbd1082",
   "metadata": {},
   "outputs": [
    {
     "data": {
      "text/plain": [
       "<AxesSubplot:xlabel='PERSONS18', ylabel='Count'>"
      ]
     },
     "execution_count": 120,
     "metadata": {},
     "output_type": "execute_result"
    },
    {
     "data": {
      "image/png": "[encoded data removed]",
      "text/plain": [
       "<Figure size 432x288 with 1 Axes>"
      ]
     },
     "metadata": {
      "needs_background": "light"
     },
     "output_type": "display_data"
    }
   ],
   "source": [
    "sns.histplot(wi_wards.groupby(\"ward_jurisdiction\").sum()[\"PERSONS18\"])"
   ]
  }
 ],
 "metadata": {
  "kernelspec": {
   "display_name": "Python 3 (ipykernel)",
   "language": "python",
   "name": "python3"
  },
  "language_info": {
   "codemirror_mode": {
    "name": "ipython",
    "version": 3
   },
   "file_extension": ".py",
   "mimetype": "text/x-python",
   "name": "python",
   "nbconvert_exporter": "python",
   "pygments_lexer": "ipython3",
   "version": "3.9.7"
  }
 },
 "nbformat": 4,
 "nbformat_minor": 5
}
