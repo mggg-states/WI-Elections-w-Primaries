{
  "nbformat": 4,
  "nbformat_minor": 0,
  "metadata": {
    "colab": {
      "name": "WI_2018.ipynb",
      "provenance": []
    },
    "kernelspec": {
      "name": "python3",
      "display_name": "Python 3"
    },
    "language_info": {
      "name": "python"
    }
  },
  "cells": [
    {
      "cell_type": "code",
      "metadata": {
        "id": "-BhFRuCI6ypw"
      },
      "source": [
        "from re import sub\n",
        "from typing import cast\n",
        "import geopandas as gpd\n",
        "import pandas as pd\n",
        "import numpy as np\n",
        "# import pmatcher\n",
        "from tqdm import tqdm\n",
        "import re\n",
        "from functools import partial\n",
        "import ast "
      ],
      "execution_count": null,
      "outputs": []
    },
    {
      "cell_type": "code",
      "metadata": {
        "id": "LGAcqlsn69Mr"
      },
      "source": [
        "Pgov18 = pd.read_csv(\"/content/drive/MyDrive/MGGG/WI_VRA/2018 elections/Pgov18.csv\")\n",
        "Plg18 = pd.read_csv(\"/content/drive/MyDrive/MGGG/WI_VRA/2018 elections/Plg18.csv\")\n",
        "Psos18 = pd.read_csv(\"/content/drive/MyDrive/MGGG/WI_VRA/2018 elections/Psos18.csv\")\n",
        "Ptres18 = pd.read_csv(\"/content/drive/MyDrive/MGGG/WI_VRA/2018 elections/Ptres18.csv\")"
      ],
      "execution_count": null,
      "outputs": []
    },
    {
      "cell_type": "code",
      "metadata": {
        "id": "DntozGFFUDhg"
      },
      "source": [
        "def string_standarize(s):\n",
        "    s = s.replace(\" - \", \"-\")\n",
        "    s = s.replace(\" & \", \",\")\n",
        "    s = s.replace(\"&\", \",\")\n",
        "    s = s.replace(\" AND \", \",\")\n",
        "    s = s.replace(\", COMBINED\", \"\")\n",
        "    return s"
      ],
      "execution_count": null,
      "outputs": []
    },
    {
      "cell_type": "code",
      "metadata": {
        "id": "IXUElw1kUJuf"
      },
      "source": [
        "Pgov18[\"WARDGROUP\"] = Pgov18[\"COUNTY\"]  + \", \" + Pgov18[\"WARD GROUP\"].apply(string_standarize)\n",
        "Plg18[\"WARDGROUP\"] = Plg18[\"COUNTY\"]  + \", \" + Plg18[\"WARD GROUP\"].apply(string_standarize)\n",
        "Psos18[\"WARDGROUP\"] = Psos18[\"COUNTY\"]  + \", \" + Psos18[\"WARD GROUP\"].apply(string_standarize)\n",
        "Ptres18[\"WARDGROUP\"] = Ptres18[\"COUNTY\"]  + \", \" + Ptres18[\"WARD GROUP\"].apply(string_standarize)"
      ],
      "execution_count": null,
      "outputs": []
    },
    {
      "cell_type": "code",
      "metadata": {
        "id": "NmQIu0hhUq_s"
      },
      "source": [
        "def str_range_to_list(s):\n",
        "    contains_alpha = lambda s: \"A\" in s or \"B\" in s or \"C\" in s or \"S\" in s\n",
        "    nur_numeric = lambda s: not contains_alpha(s)\n",
        "\n",
        "    if contains_alpha(s):\n",
        "         ranges = s.split(\",\")\n",
        "         alphas = list(filter(contains_alpha, ranges))\n",
        "         non_alphas = list(filter(nur_numeric, ranges))\n",
        "         ranges = [x.split(\"-\") for x in non_alphas]\n",
        "         return alphas + [str(i) for r in ranges for i in range(int(r[0]), int(r[-1]) + 1)]\n",
        "    else:\n",
        "        ranges = (x.split(\"-\") for x in s.split(\",\"))\n",
        "        return [str(i) for r in ranges for i in range(int(r[0]), int(r[-1]) + 1)]\n",
        "\n",
        "def str_range_to_list_wrapper(s):\n",
        "    try:\n",
        "        return str_range_to_list(s)\n",
        "    except:\n",
        "        return None"
      ],
      "execution_count": null,
      "outputs": []
    },
    {
      "cell_type": "code",
      "metadata": {
        "id": "_2cF0S6YVDem"
      },
      "source": [
        "ward_names = \" WARD | WARDS | WD | WARD| WARDS-| WARDS| WDS | WARD-\""
      ],
      "execution_count": null,
      "outputs": []
    },
    {
      "cell_type": "code",
      "metadata": {
        "id": "PY5Ste9ZVHLj"
      },
      "source": [
        "for df in [Pgov18,Plg18,Psos18,Ptres18]:\n",
        "    df[\"ward_jurisdiction\"] = df.WARDGROUP.apply(lambda p: re.split(ward_names, p)[0])\n",
        "    df[\"ward_list_str\"] = df.WARDGROUP.apply(lambda p: re.split(ward_names, p)[-1])"
      ],
      "execution_count": null,
      "outputs": []
    },
    {
      "cell_type": "code",
      "metadata": {
        "id": "TTN6Ko53VJSy"
      },
      "source": [
        "for df in [Pgov18,Plg18,Psos18,Ptres18]:\n",
        "    df[\"ward_list\"] = df[\"ward_list_str\"].apply(str_range_to_list_wrapper)"
      ],
      "execution_count": null,
      "outputs": []
    },
    {
      "cell_type": "code",
      "metadata": {
        "colab": {
          "base_uri": "https://localhost:8080/",
          "height": 66
        },
        "id": "bKzC83m2VLTn",
        "outputId": "fb54e9ae-a48c-4365-fd06-268f99352d3b"
      },
      "source": [
        "Pgov18[Pgov18[\"ward_list\"] == None]\n",
        "Plg18[Plg18[\"ward_list\"] == None]\n",
        "Psos18[Psos18[\"ward_list\"] == None]\n",
        "Ptres18[Ptres18[\"ward_list\"] == None]"
      ],
      "execution_count": null,
      "outputs": [
        {
          "output_type": "execute_result",
          "data": {
            "text/html": [
              "<div>\n",
              "<style scoped>\n",
              "    .dataframe tbody tr th:only-of-type {\n",
              "        vertical-align: middle;\n",
              "    }\n",
              "\n",
              "    .dataframe tbody tr th {\n",
              "        vertical-align: top;\n",
              "    }\n",
              "\n",
              "    .dataframe thead th {\n",
              "        text-align: right;\n",
              "    }\n",
              "</style>\n",
              "<table border=\"1\" class=\"dataframe\">\n",
              "  <thead>\n",
              "    <tr style=\"text-align: right;\">\n",
              "      <th></th>\n",
              "      <th>COUNTY</th>\n",
              "      <th>WARD GROUP</th>\n",
              "      <th>TOTAL</th>\n",
              "      <th>DAWN MARIE  SASS</th>\n",
              "      <th>CYNTHIA  KAUMP</th>\n",
              "      <th>SARAH  GODLEWSKI</th>\n",
              "      <th>WARDGROUP</th>\n",
              "      <th>ward_jurisdiction</th>\n",
              "      <th>ward_list_str</th>\n",
              "      <th>ward_list</th>\n",
              "    </tr>\n",
              "  </thead>\n",
              "  <tbody>\n",
              "  </tbody>\n",
              "</table>\n",
              "</div>"
            ],
            "text/plain": [
              "Empty DataFrame\n",
              "Columns: [COUNTY, WARD GROUP, TOTAL, DAWN MARIE  SASS, CYNTHIA  KAUMP, SARAH  GODLEWSKI, WARDGROUP, ward_jurisdiction, ward_list_str, ward_list]\n",
              "Index: []"
            ]
          },
          "metadata": {
            "tags": []
          },
          "execution_count": 14
        }
      ]
    },
    {
      "cell_type": "code",
      "metadata": {
        "id": "Z2nD4o81VNgC"
      },
      "source": [
        "Pgov18.to_csv(\"Pgov18_parsed.csv\", index=False)\n",
        "Plg18.to_csv(\"Plg18_parsed.csv\", index=False) # 3880 rows - Unique by county + wardgroup\n",
        "Psos18.to_csv(\"Psos18_parsed.csv\", index=False)\n",
        "Ptres18.to_csv(\"Ptres18_parsed.csv\", index=False)"
      ],
      "execution_count": null,
      "outputs": []
    }
  ]
}